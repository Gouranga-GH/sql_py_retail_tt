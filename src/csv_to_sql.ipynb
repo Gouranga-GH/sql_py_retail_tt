{
 "cells": [
  {
   "cell_type": "markdown",
   "id": "8b2ecd61",
   "metadata": {},
   "source": [
    "# Code Structure Explanation\n",
    "\n",
    "## Module Imports:\n",
    "- `pandas` is used to handle CSV files as DataFrames.\n",
    "- `mysql.connector` is used to connect and interact with a MySQL database.\n",
    "- `os` is used for file path operations.\n",
    "\n",
    "## CSV Files and Table Names:\n",
    "- A list of tuples containing CSV file names and their corresponding table names in the MySQL database.\n",
    "\n",
    "## Database Connection:\n",
    "- Establishes a connection to the MySQL database with specified credentials (host, user, password, and database).\n",
    "\n",
    "## Folder Path:\n",
    "- The folder path where the CSV files are stored.\n",
    "\n",
    "## Data Type Mapping Function:\n",
    "- `get_sql_type()` determines the appropriate SQL data type based on the DataFrame's column data types.\n",
    "\n",
    "## Main Loop:\n",
    "- Iterates over each CSV file, reads it into a DataFrame, and replaces NaN values with `None`.\n",
    "- Cleans column names to ensure they are SQL-compatible.\n",
    "- Dynamically generates a `CREATE TABLE` statement based on the DataFrame's columns and data types.\n",
    "- Inserts data from each row of the DataFrame into the MySQL table.\n",
    "\n",
    "## SQL Execution:\n",
    "- Executes `CREATE TABLE` and `INSERT` SQL statements for each CSV file.\n",
    "\n",
    "## Transaction Management:\n",
    "- Commits the transaction for each CSV file after processing it.\n",
    "\n",
    "## Connection Closure:\n",
    "- Closes the connection to the MySQL database.\n",
    "\n",
    "## Notes:\n",
    "- Ensure that your MySQL server is running and the credentials provided are correct.\n",
    "\n"
   ]
  },
  {
   "cell_type": "code",
   "execution_count": null,
   "id": "1b3d8919",
   "metadata": {},
   "outputs": [],
   "source": [
    "import pandas as pd\n",
    "import mysql.connector\n",
    "import os"
   ]
  },
  {
   "cell_type": "code",
   "execution_count": null,
   "id": "0ebce819",
   "metadata": {},
   "outputs": [],
   "source": [
    "# List of CSV files and their corresponding table names\n",
    "# This list contains tuples where each tuple holds a CSV file name and its corresponding table name in the database.\n",
    "csv_files = [\n",
    "    ('customers.csv', 'customers'),\n",
    "    ('orders.csv', 'orders'),\n",
    "    ('sellers.csv', 'sellers'),\n",
    "    ('products.csv', 'products'),\n",
    "    ('geolocation.csv', 'geolocation'),\n",
    "    ('payments.csv', 'payments'),\n",
    "    ('order_items.csv', 'order_items')  # Added payments.csv for specific handling\n",
    "]"
   ]
  },
  {
   "cell_type": "code",
   "execution_count": null,
   "id": "d65be7a3",
   "metadata": {},
   "outputs": [],
   "source": [
    "# Connect to the MySQL database\n",
    "# The connection details (host, user, password, and database) are specified here.\n",
    "conn = mysql.connector.connect(\n",
    "    host='localhost',  # Use 'localhost' for local MySQL server\n",
    "    user='root',\n",
    "    password='deleted',\n",
    "    database='ecommerce'\n",
    ")\n",
    "cursor = conn.cursor()  # Create a cursor to interact with the MySQL database"
   ]
  },
  {
   "cell_type": "code",
   "execution_count": null,
   "id": "b028c83a",
   "metadata": {},
   "outputs": [],
   "source": [
    "# The folder path where all the CSV files are stored\n",
    "folder_path = 'C:\\\\Users\\\\GourangaJha\\\\Documents\\\\ETEP\\\\SQL_py\\\\ETEDAP_3\\\\data'"
   ]
  },
  {
   "cell_type": "code",
   "execution_count": null,
   "id": "2bee3d89",
   "metadata": {},
   "outputs": [],
   "source": [
    "# Function to determine the appropriate SQL data type based on pandas DataFrame column types\n",
    "def get_sql_type(dtype):\n",
    "    if pd.api.types.is_integer_dtype(dtype):  # If column is of integer type\n",
    "        return 'INT'\n",
    "    elif pd.api.types.is_float_dtype(dtype):  # If column is of float type\n",
    "        return 'FLOAT'\n",
    "    elif pd.api.types.is_bool_dtype(dtype):  # If column is of boolean type\n",
    "        return 'BOOLEAN'\n",
    "    elif pd.api.types.is_datetime64_any_dtype(dtype):  # If column is of datetime type\n",
    "        return 'DATETIME'\n",
    "    else:  # Default to TEXT for all other types\n",
    "        return 'TEXT'"
   ]
  },
  {
   "cell_type": "code",
   "execution_count": null,
   "id": "17bf3c88",
   "metadata": {},
   "outputs": [],
   "source": [
    "# Loop through each CSV file and its corresponding table name\n",
    "for csv_file, table_name in csv_files:\n",
    "    # Create the full path to the current CSV file\n",
    "    file_path = os.path.join(folder_path, csv_file)\n",
    "    \n",
    "    # Read the CSV file into a pandas DataFrame\n",
    "    df = pd.read_csv(file_path)\n",
    "    \n",
    "    # Replace NaN values with None to handle SQL NULL values\n",
    "    df = df.where(pd.notnull(df), None)\n",
    "    \n",
    "    # Debugging: Print information about NaN values before replacement\n",
    "    print(f\"Processing {csv_file}\")\n",
    "    print(f\"NaN values before replacement:\\n{df.isnull().sum()}\\n\")\n",
    "\n",
    "    # Clean column names by replacing spaces, hyphens, and periods with underscores\n",
    "    df.columns = [col.replace(' ', '_').replace('-', '_').replace('.', '_') for col in df.columns]\n",
    "\n",
    "    # Generate the CREATE TABLE statement with appropriate data types\n",
    "    columns = ', '.join([f'`{col}` {get_sql_type(df[col].dtype)}' for col in df.columns])\n",
    "    create_table_query = f'CREATE TABLE IF NOT EXISTS `{table_name}` ({columns})'\n",
    "    cursor.execute(create_table_query)  # Execute the CREATE TABLE statement\n",
    "\n",
    "    # Insert DataFrame data into the MySQL table row by row\n",
    "    for _, row in df.iterrows():\n",
    "        # Convert the row into a tuple, replacing NaN with None explicitly\n",
    "        values = tuple(None if pd.isna(x) else x for x in row)\n",
    "        # Construct the INSERT statement dynamically\n",
    "        sql = f\"INSERT INTO `{table_name}` ({', '.join(['`' + col + '`' for col in df.columns])}) VALUES ({', '.join(['%s'] * len(row))})\"\n",
    "        cursor.execute(sql, values)  # Execute the INSERT statement\n",
    "\n",
    "    # Commit the transaction after processing the entire CSV file\n",
    "    conn.commit()\n",
    "\n",
    "# Close the database connection\n",
    "conn.close()\n"
   ]
  }
 ],
 "metadata": {
  "kernelspec": {
   "display_name": "Python 3 (ipykernel)",
   "language": "python",
   "name": "python3"
  },
  "language_info": {
   "codemirror_mode": {
    "name": "ipython",
    "version": 3
   },
   "file_extension": ".py",
   "mimetype": "text/x-python",
   "name": "python",
   "nbconvert_exporter": "python",
   "pygments_lexer": "ipython3",
   "version": "3.11.5"
  }
 },
 "nbformat": 4,
 "nbformat_minor": 5
}
